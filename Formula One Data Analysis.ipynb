{
 "cells": [
  {
   "cell_type": "markdown",
   "id": "90897edb",
   "metadata": {},
   "source": [
    "# Formula One Data Analysis\n",
    "\n",
    "## Introduction\n",
    "\n",
    "Formula One (F1) is a premier international auto racing series featuring high-performance single-seater cars. With its blend of cutting-edge technology, top-tier drivers, and iconic circuits, F1 captivates millions of fans worldwide. In this analysis, we delve into a comprehensive dataset sourced from Kaggle, providing insights into various aspects of the sport, including race results, driver performances, team strategies, and more.\n",
    "\n",
    "## About the Dataset\n",
    "\n",
    "The dataset used in this analysis is sourced from Kaggle, a popular platform for data science projects and competitions. It comprises a multiple csv collection of F1-related data, spanning multiple seasons, races, drivers, teams, and circuits. The dataset offers a treasure trove of information, including race outcomes, qualifying results, lap times, driver standings, and team performance metrics."
   ]
  },
  {
   "cell_type": "markdown",
   "id": "e15bd79e",
   "metadata": {},
   "source": []
  },
  {
   "cell_type": "markdown",
   "id": "78e2dcab",
   "metadata": {},
   "source": [
    "<a id=\"Load-the-Libraries\"></a>\n",
    "# 1. Load the Libraries\n",
    "\n",
    "We will start the analysis by first importing the required libraries. We will import pandas for reading the data and manipulating it, matplotlib and seaborn for visualizing the data"
   ]
  },
  {
   "cell_type": "code",
   "execution_count": 1,
   "id": "712d2847",
   "metadata": {},
   "outputs": [],
   "source": [
    "#import libraries\n",
    "import pandas as pd\n",
    "import numpy as np\n",
    "import matplotlib.pyplot as plt\n",
    "import seaborn as sns\n",
    "\n",
    "%matplotlib inline"
   ]
  },
  {
   "cell_type": "markdown",
   "id": "9f0d0622",
   "metadata": {},
   "source": [
    "# 2. Read Data\n",
    "\n",
    "Let's read the different csv files using the pandas read_csv function. The result are different dataframes names accordingly. We will then display the data just to get a preview of the different dataframes"
   ]
  },
  {
   "cell_type": "code",
   "execution_count": 2,
   "id": "92c35dde",
   "metadata": {},
   "outputs": [],
   "source": [
    "# reading the data\n",
    "circuits = pd.read_csv(\"data/circuits.csv\")\n",
    "constructors = pd.read_csv(\"data/constructors.csv\")\n",
    "drivers = pd.read_csv(\"data/drivers.csv\")\n",
    "races = pd.read_csv(\"data/races.csv\")\n",
    "results = pd.read_csv(\"data/results.csv\")\n",
    "status = pd.read_csv(\"data/status.csv\")"
   ]
  },
  {
   "cell_type": "code",
   "execution_count": 3,
   "id": "e04e2ed1",
   "metadata": {},
   "outputs": [
    {
     "data": {
      "text/plain": [
       "'circuits'"
      ]
     },
     "metadata": {},
     "output_type": "display_data"
    },
    {
     "data": {
      "text/html": [
       "<div>\n",
       "<style scoped>\n",
       "    .dataframe tbody tr th:only-of-type {\n",
       "        vertical-align: middle;\n",
       "    }\n",
       "\n",
       "    .dataframe tbody tr th {\n",
       "        vertical-align: top;\n",
       "    }\n",
       "\n",
       "    .dataframe thead th {\n",
       "        text-align: right;\n",
       "    }\n",
       "</style>\n",
       "<table border=\"1\" class=\"dataframe\">\n",
       "  <thead>\n",
       "    <tr style=\"text-align: right;\">\n",
       "      <th></th>\n",
       "      <th>circuitId</th>\n",
       "      <th>circuitRef</th>\n",
       "      <th>name</th>\n",
       "      <th>location</th>\n",
       "      <th>country</th>\n",
       "      <th>lat</th>\n",
       "      <th>lng</th>\n",
       "      <th>alt</th>\n",
       "      <th>url</th>\n",
       "    </tr>\n",
       "  </thead>\n",
       "  <tbody>\n",
       "    <tr>\n",
       "      <th>0</th>\n",
       "      <td>1</td>\n",
       "      <td>albert_park</td>\n",
       "      <td>Albert Park Grand Prix Circuit</td>\n",
       "      <td>Melbourne</td>\n",
       "      <td>Australia</td>\n",
       "      <td>-37.84970</td>\n",
       "      <td>144.9680</td>\n",
       "      <td>10</td>\n",
       "      <td>http://en.wikipedia.org/wiki/Melbourne_Grand_P...</td>\n",
       "    </tr>\n",
       "    <tr>\n",
       "      <th>1</th>\n",
       "      <td>2</td>\n",
       "      <td>sepang</td>\n",
       "      <td>Sepang International Circuit</td>\n",
       "      <td>Kuala Lumpur</td>\n",
       "      <td>Malaysia</td>\n",
       "      <td>2.76083</td>\n",
       "      <td>101.7380</td>\n",
       "      <td>18</td>\n",
       "      <td>http://en.wikipedia.org/wiki/Sepang_Internatio...</td>\n",
       "    </tr>\n",
       "    <tr>\n",
       "      <th>2</th>\n",
       "      <td>3</td>\n",
       "      <td>bahrain</td>\n",
       "      <td>Bahrain International Circuit</td>\n",
       "      <td>Sakhir</td>\n",
       "      <td>Bahrain</td>\n",
       "      <td>26.03250</td>\n",
       "      <td>50.5106</td>\n",
       "      <td>7</td>\n",
       "      <td>http://en.wikipedia.org/wiki/Bahrain_Internati...</td>\n",
       "    </tr>\n",
       "  </tbody>\n",
       "</table>\n",
       "</div>"
      ],
      "text/plain": [
       "   circuitId   circuitRef                            name      location  \\\n",
       "0          1  albert_park  Albert Park Grand Prix Circuit     Melbourne   \n",
       "1          2       sepang    Sepang International Circuit  Kuala Lumpur   \n",
       "2          3      bahrain   Bahrain International Circuit        Sakhir   \n",
       "\n",
       "     country       lat       lng alt  \\\n",
       "0  Australia -37.84970  144.9680  10   \n",
       "1   Malaysia   2.76083  101.7380  18   \n",
       "2    Bahrain  26.03250   50.5106   7   \n",
       "\n",
       "                                                 url  \n",
       "0  http://en.wikipedia.org/wiki/Melbourne_Grand_P...  \n",
       "1  http://en.wikipedia.org/wiki/Sepang_Internatio...  \n",
       "2  http://en.wikipedia.org/wiki/Bahrain_Internati...  "
      ]
     },
     "metadata": {},
     "output_type": "display_data"
    },
    {
     "data": {
      "text/plain": [
       "(77, 9)"
      ]
     },
     "metadata": {},
     "output_type": "display_data"
    },
    {
     "data": {
      "text/plain": [
       "'constructors'"
      ]
     },
     "metadata": {},
     "output_type": "display_data"
    },
    {
     "data": {
      "text/html": [
       "<div>\n",
       "<style scoped>\n",
       "    .dataframe tbody tr th:only-of-type {\n",
       "        vertical-align: middle;\n",
       "    }\n",
       "\n",
       "    .dataframe tbody tr th {\n",
       "        vertical-align: top;\n",
       "    }\n",
       "\n",
       "    .dataframe thead th {\n",
       "        text-align: right;\n",
       "    }\n",
       "</style>\n",
       "<table border=\"1\" class=\"dataframe\">\n",
       "  <thead>\n",
       "    <tr style=\"text-align: right;\">\n",
       "      <th></th>\n",
       "      <th>constructorId</th>\n",
       "      <th>constructorRef</th>\n",
       "      <th>name</th>\n",
       "      <th>nationality</th>\n",
       "      <th>url</th>\n",
       "    </tr>\n",
       "  </thead>\n",
       "  <tbody>\n",
       "    <tr>\n",
       "      <th>0</th>\n",
       "      <td>1</td>\n",
       "      <td>mclaren</td>\n",
       "      <td>McLaren</td>\n",
       "      <td>British</td>\n",
       "      <td>http://en.wikipedia.org/wiki/McLaren</td>\n",
       "    </tr>\n",
       "    <tr>\n",
       "      <th>1</th>\n",
       "      <td>2</td>\n",
       "      <td>bmw_sauber</td>\n",
       "      <td>BMW Sauber</td>\n",
       "      <td>German</td>\n",
       "      <td>http://en.wikipedia.org/wiki/BMW_Sauber</td>\n",
       "    </tr>\n",
       "    <tr>\n",
       "      <th>2</th>\n",
       "      <td>3</td>\n",
       "      <td>williams</td>\n",
       "      <td>Williams</td>\n",
       "      <td>British</td>\n",
       "      <td>http://en.wikipedia.org/wiki/Williams_Grand_Pr...</td>\n",
       "    </tr>\n",
       "  </tbody>\n",
       "</table>\n",
       "</div>"
      ],
      "text/plain": [
       "   constructorId constructorRef        name nationality  \\\n",
       "0              1        mclaren     McLaren     British   \n",
       "1              2     bmw_sauber  BMW Sauber      German   \n",
       "2              3       williams    Williams     British   \n",
       "\n",
       "                                                 url  \n",
       "0               http://en.wikipedia.org/wiki/McLaren  \n",
       "1            http://en.wikipedia.org/wiki/BMW_Sauber  \n",
       "2  http://en.wikipedia.org/wiki/Williams_Grand_Pr...  "
      ]
     },
     "metadata": {},
     "output_type": "display_data"
    },
    {
     "data": {
      "text/plain": [
       "(211, 5)"
      ]
     },
     "metadata": {},
     "output_type": "display_data"
    },
    {
     "data": {
      "text/plain": [
       "'drivers'"
      ]
     },
     "metadata": {},
     "output_type": "display_data"
    },
    {
     "data": {
      "text/html": [
       "<div>\n",
       "<style scoped>\n",
       "    .dataframe tbody tr th:only-of-type {\n",
       "        vertical-align: middle;\n",
       "    }\n",
       "\n",
       "    .dataframe tbody tr th {\n",
       "        vertical-align: top;\n",
       "    }\n",
       "\n",
       "    .dataframe thead th {\n",
       "        text-align: right;\n",
       "    }\n",
       "</style>\n",
       "<table border=\"1\" class=\"dataframe\">\n",
       "  <thead>\n",
       "    <tr style=\"text-align: right;\">\n",
       "      <th></th>\n",
       "      <th>driverId</th>\n",
       "      <th>driverRef</th>\n",
       "      <th>number</th>\n",
       "      <th>code</th>\n",
       "      <th>forename</th>\n",
       "      <th>surname</th>\n",
       "      <th>dob</th>\n",
       "      <th>nationality</th>\n",
       "      <th>url</th>\n",
       "    </tr>\n",
       "  </thead>\n",
       "  <tbody>\n",
       "    <tr>\n",
       "      <th>0</th>\n",
       "      <td>1</td>\n",
       "      <td>hamilton</td>\n",
       "      <td>44</td>\n",
       "      <td>HAM</td>\n",
       "      <td>Lewis</td>\n",
       "      <td>Hamilton</td>\n",
       "      <td>1985-01-07</td>\n",
       "      <td>British</td>\n",
       "      <td>http://en.wikipedia.org/wiki/Lewis_Hamilton</td>\n",
       "    </tr>\n",
       "    <tr>\n",
       "      <th>1</th>\n",
       "      <td>2</td>\n",
       "      <td>heidfeld</td>\n",
       "      <td>\\N</td>\n",
       "      <td>HEI</td>\n",
       "      <td>Nick</td>\n",
       "      <td>Heidfeld</td>\n",
       "      <td>1977-05-10</td>\n",
       "      <td>German</td>\n",
       "      <td>http://en.wikipedia.org/wiki/Nick_Heidfeld</td>\n",
       "    </tr>\n",
       "    <tr>\n",
       "      <th>2</th>\n",
       "      <td>3</td>\n",
       "      <td>rosberg</td>\n",
       "      <td>6</td>\n",
       "      <td>ROS</td>\n",
       "      <td>Nico</td>\n",
       "      <td>Rosberg</td>\n",
       "      <td>1985-06-27</td>\n",
       "      <td>German</td>\n",
       "      <td>http://en.wikipedia.org/wiki/Nico_Rosberg</td>\n",
       "    </tr>\n",
       "  </tbody>\n",
       "</table>\n",
       "</div>"
      ],
      "text/plain": [
       "   driverId driverRef number code forename   surname         dob nationality  \\\n",
       "0         1  hamilton     44  HAM    Lewis  Hamilton  1985-01-07     British   \n",
       "1         2  heidfeld     \\N  HEI     Nick  Heidfeld  1977-05-10      German   \n",
       "2         3   rosberg      6  ROS     Nico   Rosberg  1985-06-27      German   \n",
       "\n",
       "                                           url  \n",
       "0  http://en.wikipedia.org/wiki/Lewis_Hamilton  \n",
       "1   http://en.wikipedia.org/wiki/Nick_Heidfeld  \n",
       "2    http://en.wikipedia.org/wiki/Nico_Rosberg  "
      ]
     },
     "metadata": {},
     "output_type": "display_data"
    },
    {
     "data": {
      "text/plain": [
       "(857, 9)"
      ]
     },
     "metadata": {},
     "output_type": "display_data"
    },
    {
     "data": {
      "text/plain": [
       "'races'"
      ]
     },
     "metadata": {},
     "output_type": "display_data"
    },
    {
     "data": {
      "text/html": [
       "<div>\n",
       "<style scoped>\n",
       "    .dataframe tbody tr th:only-of-type {\n",
       "        vertical-align: middle;\n",
       "    }\n",
       "\n",
       "    .dataframe tbody tr th {\n",
       "        vertical-align: top;\n",
       "    }\n",
       "\n",
       "    .dataframe thead th {\n",
       "        text-align: right;\n",
       "    }\n",
       "</style>\n",
       "<table border=\"1\" class=\"dataframe\">\n",
       "  <thead>\n",
       "    <tr style=\"text-align: right;\">\n",
       "      <th></th>\n",
       "      <th>raceId</th>\n",
       "      <th>year</th>\n",
       "      <th>round</th>\n",
       "      <th>circuitId</th>\n",
       "      <th>name</th>\n",
       "      <th>date</th>\n",
       "      <th>time</th>\n",
       "      <th>url</th>\n",
       "      <th>fp1_date</th>\n",
       "      <th>fp1_time</th>\n",
       "      <th>fp2_date</th>\n",
       "      <th>fp2_time</th>\n",
       "      <th>fp3_date</th>\n",
       "      <th>fp3_time</th>\n",
       "      <th>quali_date</th>\n",
       "      <th>quali_time</th>\n",
       "      <th>sprint_date</th>\n",
       "      <th>sprint_time</th>\n",
       "    </tr>\n",
       "  </thead>\n",
       "  <tbody>\n",
       "    <tr>\n",
       "      <th>0</th>\n",
       "      <td>1</td>\n",
       "      <td>2009</td>\n",
       "      <td>1</td>\n",
       "      <td>1</td>\n",
       "      <td>Australian Grand Prix</td>\n",
       "      <td>2009-03-29</td>\n",
       "      <td>06:00:00</td>\n",
       "      <td>http://en.wikipedia.org/wiki/2009_Australian_G...</td>\n",
       "      <td>\\N</td>\n",
       "      <td>\\N</td>\n",
       "      <td>\\N</td>\n",
       "      <td>\\N</td>\n",
       "      <td>\\N</td>\n",
       "      <td>\\N</td>\n",
       "      <td>\\N</td>\n",
       "      <td>\\N</td>\n",
       "      <td>\\N</td>\n",
       "      <td>\\N</td>\n",
       "    </tr>\n",
       "    <tr>\n",
       "      <th>1</th>\n",
       "      <td>2</td>\n",
       "      <td>2009</td>\n",
       "      <td>2</td>\n",
       "      <td>2</td>\n",
       "      <td>Malaysian Grand Prix</td>\n",
       "      <td>2009-04-05</td>\n",
       "      <td>09:00:00</td>\n",
       "      <td>http://en.wikipedia.org/wiki/2009_Malaysian_Gr...</td>\n",
       "      <td>\\N</td>\n",
       "      <td>\\N</td>\n",
       "      <td>\\N</td>\n",
       "      <td>\\N</td>\n",
       "      <td>\\N</td>\n",
       "      <td>\\N</td>\n",
       "      <td>\\N</td>\n",
       "      <td>\\N</td>\n",
       "      <td>\\N</td>\n",
       "      <td>\\N</td>\n",
       "    </tr>\n",
       "    <tr>\n",
       "      <th>2</th>\n",
       "      <td>3</td>\n",
       "      <td>2009</td>\n",
       "      <td>3</td>\n",
       "      <td>17</td>\n",
       "      <td>Chinese Grand Prix</td>\n",
       "      <td>2009-04-19</td>\n",
       "      <td>07:00:00</td>\n",
       "      <td>http://en.wikipedia.org/wiki/2009_Chinese_Gran...</td>\n",
       "      <td>\\N</td>\n",
       "      <td>\\N</td>\n",
       "      <td>\\N</td>\n",
       "      <td>\\N</td>\n",
       "      <td>\\N</td>\n",
       "      <td>\\N</td>\n",
       "      <td>\\N</td>\n",
       "      <td>\\N</td>\n",
       "      <td>\\N</td>\n",
       "      <td>\\N</td>\n",
       "    </tr>\n",
       "  </tbody>\n",
       "</table>\n",
       "</div>"
      ],
      "text/plain": [
       "   raceId  year  round  circuitId                   name        date  \\\n",
       "0       1  2009      1          1  Australian Grand Prix  2009-03-29   \n",
       "1       2  2009      2          2   Malaysian Grand Prix  2009-04-05   \n",
       "2       3  2009      3         17     Chinese Grand Prix  2009-04-19   \n",
       "\n",
       "       time                                                url fp1_date  \\\n",
       "0  06:00:00  http://en.wikipedia.org/wiki/2009_Australian_G...       \\N   \n",
       "1  09:00:00  http://en.wikipedia.org/wiki/2009_Malaysian_Gr...       \\N   \n",
       "2  07:00:00  http://en.wikipedia.org/wiki/2009_Chinese_Gran...       \\N   \n",
       "\n",
       "  fp1_time fp2_date fp2_time fp3_date fp3_time quali_date quali_time  \\\n",
       "0       \\N       \\N       \\N       \\N       \\N         \\N         \\N   \n",
       "1       \\N       \\N       \\N       \\N       \\N         \\N         \\N   \n",
       "2       \\N       \\N       \\N       \\N       \\N         \\N         \\N   \n",
       "\n",
       "  sprint_date sprint_time  \n",
       "0          \\N          \\N  \n",
       "1          \\N          \\N  \n",
       "2          \\N          \\N  "
      ]
     },
     "metadata": {},
     "output_type": "display_data"
    },
    {
     "data": {
      "text/plain": [
       "(1101, 18)"
      ]
     },
     "metadata": {},
     "output_type": "display_data"
    },
    {
     "data": {
      "text/plain": [
       "'results'"
      ]
     },
     "metadata": {},
     "output_type": "display_data"
    },
    {
     "data": {
      "text/html": [
       "<div>\n",
       "<style scoped>\n",
       "    .dataframe tbody tr th:only-of-type {\n",
       "        vertical-align: middle;\n",
       "    }\n",
       "\n",
       "    .dataframe tbody tr th {\n",
       "        vertical-align: top;\n",
       "    }\n",
       "\n",
       "    .dataframe thead th {\n",
       "        text-align: right;\n",
       "    }\n",
       "</style>\n",
       "<table border=\"1\" class=\"dataframe\">\n",
       "  <thead>\n",
       "    <tr style=\"text-align: right;\">\n",
       "      <th></th>\n",
       "      <th>resultId</th>\n",
       "      <th>raceId</th>\n",
       "      <th>driverId</th>\n",
       "      <th>constructorId</th>\n",
       "      <th>number</th>\n",
       "      <th>grid</th>\n",
       "      <th>position</th>\n",
       "      <th>positionText</th>\n",
       "      <th>positionOrder</th>\n",
       "      <th>points</th>\n",
       "      <th>laps</th>\n",
       "      <th>time</th>\n",
       "      <th>milliseconds</th>\n",
       "      <th>fastestLap</th>\n",
       "      <th>rank</th>\n",
       "      <th>fastestLapTime</th>\n",
       "      <th>fastestLapSpeed</th>\n",
       "      <th>statusId</th>\n",
       "    </tr>\n",
       "  </thead>\n",
       "  <tbody>\n",
       "    <tr>\n",
       "      <th>0</th>\n",
       "      <td>1</td>\n",
       "      <td>18</td>\n",
       "      <td>1</td>\n",
       "      <td>1</td>\n",
       "      <td>22</td>\n",
       "      <td>1</td>\n",
       "      <td>1</td>\n",
       "      <td>1</td>\n",
       "      <td>1</td>\n",
       "      <td>10.0</td>\n",
       "      <td>58</td>\n",
       "      <td>1:34:50.616</td>\n",
       "      <td>5690616</td>\n",
       "      <td>39</td>\n",
       "      <td>2</td>\n",
       "      <td>1:27.452</td>\n",
       "      <td>218.300</td>\n",
       "      <td>1</td>\n",
       "    </tr>\n",
       "    <tr>\n",
       "      <th>1</th>\n",
       "      <td>2</td>\n",
       "      <td>18</td>\n",
       "      <td>2</td>\n",
       "      <td>2</td>\n",
       "      <td>3</td>\n",
       "      <td>5</td>\n",
       "      <td>2</td>\n",
       "      <td>2</td>\n",
       "      <td>2</td>\n",
       "      <td>8.0</td>\n",
       "      <td>58</td>\n",
       "      <td>+5.478</td>\n",
       "      <td>5696094</td>\n",
       "      <td>41</td>\n",
       "      <td>3</td>\n",
       "      <td>1:27.739</td>\n",
       "      <td>217.586</td>\n",
       "      <td>1</td>\n",
       "    </tr>\n",
       "    <tr>\n",
       "      <th>2</th>\n",
       "      <td>3</td>\n",
       "      <td>18</td>\n",
       "      <td>3</td>\n",
       "      <td>3</td>\n",
       "      <td>7</td>\n",
       "      <td>7</td>\n",
       "      <td>3</td>\n",
       "      <td>3</td>\n",
       "      <td>3</td>\n",
       "      <td>6.0</td>\n",
       "      <td>58</td>\n",
       "      <td>+8.163</td>\n",
       "      <td>5698779</td>\n",
       "      <td>41</td>\n",
       "      <td>5</td>\n",
       "      <td>1:28.090</td>\n",
       "      <td>216.719</td>\n",
       "      <td>1</td>\n",
       "    </tr>\n",
       "  </tbody>\n",
       "</table>\n",
       "</div>"
      ],
      "text/plain": [
       "   resultId  raceId  driverId  constructorId number  grid position  \\\n",
       "0         1      18         1              1     22     1        1   \n",
       "1         2      18         2              2      3     5        2   \n",
       "2         3      18         3              3      7     7        3   \n",
       "\n",
       "  positionText  positionOrder  points  laps         time milliseconds  \\\n",
       "0            1              1    10.0    58  1:34:50.616      5690616   \n",
       "1            2              2     8.0    58       +5.478      5696094   \n",
       "2            3              3     6.0    58       +8.163      5698779   \n",
       "\n",
       "  fastestLap rank fastestLapTime fastestLapSpeed  statusId  \n",
       "0         39    2       1:27.452         218.300         1  \n",
       "1         41    3       1:27.739         217.586         1  \n",
       "2         41    5       1:28.090         216.719         1  "
      ]
     },
     "metadata": {},
     "output_type": "display_data"
    },
    {
     "data": {
      "text/plain": [
       "(26080, 18)"
      ]
     },
     "metadata": {},
     "output_type": "display_data"
    },
    {
     "data": {
      "text/plain": [
       "'status'"
      ]
     },
     "metadata": {},
     "output_type": "display_data"
    },
    {
     "data": {
      "text/html": [
       "<div>\n",
       "<style scoped>\n",
       "    .dataframe tbody tr th:only-of-type {\n",
       "        vertical-align: middle;\n",
       "    }\n",
       "\n",
       "    .dataframe tbody tr th {\n",
       "        vertical-align: top;\n",
       "    }\n",
       "\n",
       "    .dataframe thead th {\n",
       "        text-align: right;\n",
       "    }\n",
       "</style>\n",
       "<table border=\"1\" class=\"dataframe\">\n",
       "  <thead>\n",
       "    <tr style=\"text-align: right;\">\n",
       "      <th></th>\n",
       "      <th>statusId</th>\n",
       "      <th>status</th>\n",
       "    </tr>\n",
       "  </thead>\n",
       "  <tbody>\n",
       "    <tr>\n",
       "      <th>0</th>\n",
       "      <td>1</td>\n",
       "      <td>Finished</td>\n",
       "    </tr>\n",
       "    <tr>\n",
       "      <th>1</th>\n",
       "      <td>2</td>\n",
       "      <td>Disqualified</td>\n",
       "    </tr>\n",
       "    <tr>\n",
       "      <th>2</th>\n",
       "      <td>3</td>\n",
       "      <td>Accident</td>\n",
       "    </tr>\n",
       "  </tbody>\n",
       "</table>\n",
       "</div>"
      ],
      "text/plain": [
       "   statusId        status\n",
       "0         1      Finished\n",
       "1         2  Disqualified\n",
       "2         3      Accident"
      ]
     },
     "metadata": {},
     "output_type": "display_data"
    },
    {
     "data": {
      "text/plain": [
       "(139, 2)"
      ]
     },
     "metadata": {},
     "output_type": "display_data"
    }
   ],
   "source": [
    "#checking out the data\n",
    "display('circuits', circuits.head(3), circuits.shape)\n",
    "display('constructors', constructors.head(3), constructors.shape)\n",
    "display('drivers', drivers.head(3), drivers.shape)\n",
    "display('races', races.head(3), races.shape)\n",
    "display('results', results.head(3), results.shape)\n",
    "display('status', status.head(3), status.shape)"
   ]
  },
  {
   "cell_type": "markdown",
   "id": "950654fb",
   "metadata": {},
   "source": [
    "# 3.  Data Preparation\n",
    "\n",
    "For easy analysis we ideally need to be working with one dataset. We will proceed to merge the different dataframes using the common columns as seen prevoiusly. This will result to us having some columns we will not need for the analysis. We shall then drop those columns and then check the new dataframe using describe and info methods. We will also ensure there are no duplicate or missing data"
   ]
  },
  {
   "cell_type": "code",
   "execution_count": 4,
   "id": "26a01e5a",
   "metadata": {},
   "outputs": [],
   "source": [
    "#merging the data into one dataframe\n",
    "df = pd.merge(results,races[['raceId','year','name','round']],on = 'raceId',how = 'left')\n",
    "df = pd.merge(df,drivers[['driverId','driverRef','nationality']],on = 'driverId',how ='left')\n",
    "df = pd.merge(df,constructors[['constructorId','name','nationality']],on ='constructorId',how ='left')"
   ]
  },
  {
   "cell_type": "code",
   "execution_count": 5,
   "id": "ea30ca9c",
   "metadata": {},
   "outputs": [
    {
     "data": {
      "text/html": [
       "<div>\n",
       "<style scoped>\n",
       "    .dataframe tbody tr th:only-of-type {\n",
       "        vertical-align: middle;\n",
       "    }\n",
       "\n",
       "    .dataframe tbody tr th {\n",
       "        vertical-align: top;\n",
       "    }\n",
       "\n",
       "    .dataframe thead th {\n",
       "        text-align: right;\n",
       "    }\n",
       "</style>\n",
       "<table border=\"1\" class=\"dataframe\">\n",
       "  <thead>\n",
       "    <tr style=\"text-align: right;\">\n",
       "      <th></th>\n",
       "      <th>resultId</th>\n",
       "      <th>raceId</th>\n",
       "      <th>driverId</th>\n",
       "      <th>constructorId</th>\n",
       "      <th>number</th>\n",
       "      <th>grid</th>\n",
       "      <th>position</th>\n",
       "      <th>positionText</th>\n",
       "      <th>positionOrder</th>\n",
       "      <th>points</th>\n",
       "      <th>...</th>\n",
       "      <th>fastestLapTime</th>\n",
       "      <th>fastestLapSpeed</th>\n",
       "      <th>statusId</th>\n",
       "      <th>year</th>\n",
       "      <th>name_x</th>\n",
       "      <th>round</th>\n",
       "      <th>driverRef</th>\n",
       "      <th>nationality_x</th>\n",
       "      <th>name_y</th>\n",
       "      <th>nationality_y</th>\n",
       "    </tr>\n",
       "  </thead>\n",
       "  <tbody>\n",
       "    <tr>\n",
       "      <th>0</th>\n",
       "      <td>1</td>\n",
       "      <td>18</td>\n",
       "      <td>1</td>\n",
       "      <td>1</td>\n",
       "      <td>22</td>\n",
       "      <td>1</td>\n",
       "      <td>1</td>\n",
       "      <td>1</td>\n",
       "      <td>1</td>\n",
       "      <td>10.0</td>\n",
       "      <td>...</td>\n",
       "      <td>1:27.452</td>\n",
       "      <td>218.300</td>\n",
       "      <td>1</td>\n",
       "      <td>2008</td>\n",
       "      <td>Australian Grand Prix</td>\n",
       "      <td>1</td>\n",
       "      <td>hamilton</td>\n",
       "      <td>British</td>\n",
       "      <td>McLaren</td>\n",
       "      <td>British</td>\n",
       "    </tr>\n",
       "    <tr>\n",
       "      <th>1</th>\n",
       "      <td>2</td>\n",
       "      <td>18</td>\n",
       "      <td>2</td>\n",
       "      <td>2</td>\n",
       "      <td>3</td>\n",
       "      <td>5</td>\n",
       "      <td>2</td>\n",
       "      <td>2</td>\n",
       "      <td>2</td>\n",
       "      <td>8.0</td>\n",
       "      <td>...</td>\n",
       "      <td>1:27.739</td>\n",
       "      <td>217.586</td>\n",
       "      <td>1</td>\n",
       "      <td>2008</td>\n",
       "      <td>Australian Grand Prix</td>\n",
       "      <td>1</td>\n",
       "      <td>heidfeld</td>\n",
       "      <td>German</td>\n",
       "      <td>BMW Sauber</td>\n",
       "      <td>German</td>\n",
       "    </tr>\n",
       "    <tr>\n",
       "      <th>2</th>\n",
       "      <td>3</td>\n",
       "      <td>18</td>\n",
       "      <td>3</td>\n",
       "      <td>3</td>\n",
       "      <td>7</td>\n",
       "      <td>7</td>\n",
       "      <td>3</td>\n",
       "      <td>3</td>\n",
       "      <td>3</td>\n",
       "      <td>6.0</td>\n",
       "      <td>...</td>\n",
       "      <td>1:28.090</td>\n",
       "      <td>216.719</td>\n",
       "      <td>1</td>\n",
       "      <td>2008</td>\n",
       "      <td>Australian Grand Prix</td>\n",
       "      <td>1</td>\n",
       "      <td>rosberg</td>\n",
       "      <td>German</td>\n",
       "      <td>Williams</td>\n",
       "      <td>British</td>\n",
       "    </tr>\n",
       "    <tr>\n",
       "      <th>3</th>\n",
       "      <td>4</td>\n",
       "      <td>18</td>\n",
       "      <td>4</td>\n",
       "      <td>4</td>\n",
       "      <td>5</td>\n",
       "      <td>11</td>\n",
       "      <td>4</td>\n",
       "      <td>4</td>\n",
       "      <td>4</td>\n",
       "      <td>5.0</td>\n",
       "      <td>...</td>\n",
       "      <td>1:28.603</td>\n",
       "      <td>215.464</td>\n",
       "      <td>1</td>\n",
       "      <td>2008</td>\n",
       "      <td>Australian Grand Prix</td>\n",
       "      <td>1</td>\n",
       "      <td>alonso</td>\n",
       "      <td>Spanish</td>\n",
       "      <td>Renault</td>\n",
       "      <td>French</td>\n",
       "    </tr>\n",
       "    <tr>\n",
       "      <th>4</th>\n",
       "      <td>5</td>\n",
       "      <td>18</td>\n",
       "      <td>5</td>\n",
       "      <td>1</td>\n",
       "      <td>23</td>\n",
       "      <td>3</td>\n",
       "      <td>5</td>\n",
       "      <td>5</td>\n",
       "      <td>5</td>\n",
       "      <td>4.0</td>\n",
       "      <td>...</td>\n",
       "      <td>1:27.418</td>\n",
       "      <td>218.385</td>\n",
       "      <td>1</td>\n",
       "      <td>2008</td>\n",
       "      <td>Australian Grand Prix</td>\n",
       "      <td>1</td>\n",
       "      <td>kovalainen</td>\n",
       "      <td>Finnish</td>\n",
       "      <td>McLaren</td>\n",
       "      <td>British</td>\n",
       "    </tr>\n",
       "  </tbody>\n",
       "</table>\n",
       "<p>5 rows × 25 columns</p>\n",
       "</div>"
      ],
      "text/plain": [
       "   resultId  raceId  driverId  constructorId number  grid position  \\\n",
       "0         1      18         1              1     22     1        1   \n",
       "1         2      18         2              2      3     5        2   \n",
       "2         3      18         3              3      7     7        3   \n",
       "3         4      18         4              4      5    11        4   \n",
       "4         5      18         5              1     23     3        5   \n",
       "\n",
       "  positionText  positionOrder  points  ...  fastestLapTime fastestLapSpeed  \\\n",
       "0            1              1    10.0  ...        1:27.452         218.300   \n",
       "1            2              2     8.0  ...        1:27.739         217.586   \n",
       "2            3              3     6.0  ...        1:28.090         216.719   \n",
       "3            4              4     5.0  ...        1:28.603         215.464   \n",
       "4            5              5     4.0  ...        1:27.418         218.385   \n",
       "\n",
       "  statusId  year                 name_x round   driverRef  nationality_x  \\\n",
       "0        1  2008  Australian Grand Prix     1    hamilton        British   \n",
       "1        1  2008  Australian Grand Prix     1    heidfeld         German   \n",
       "2        1  2008  Australian Grand Prix     1     rosberg         German   \n",
       "3        1  2008  Australian Grand Prix     1      alonso        Spanish   \n",
       "4        1  2008  Australian Grand Prix     1  kovalainen        Finnish   \n",
       "\n",
       "       name_y nationality_y  \n",
       "0     McLaren       British  \n",
       "1  BMW Sauber        German  \n",
       "2    Williams       British  \n",
       "3     Renault        French  \n",
       "4     McLaren       British  \n",
       "\n",
       "[5 rows x 25 columns]"
      ]
     },
     "execution_count": 5,
     "metadata": {},
     "output_type": "execute_result"
    }
   ],
   "source": [
    "df.head()"
   ]
  },
  {
   "cell_type": "code",
   "execution_count": 6,
   "id": "87e19908",
   "metadata": {},
   "outputs": [],
   "source": [
    "#Drop unnecessary columns\n",
    "df.drop(['number','position','positionText','laps','fastestLap','statusId','resultId','driverId','constructorId'],axis =1,inplace = True)"
   ]
  },
  {
   "cell_type": "code",
   "execution_count": 7,
   "id": "6919b16d",
   "metadata": {},
   "outputs": [
    {
     "data": {
      "text/html": [
       "<div>\n",
       "<style scoped>\n",
       "    .dataframe tbody tr th:only-of-type {\n",
       "        vertical-align: middle;\n",
       "    }\n",
       "\n",
       "    .dataframe tbody tr th {\n",
       "        vertical-align: top;\n",
       "    }\n",
       "\n",
       "    .dataframe thead th {\n",
       "        text-align: right;\n",
       "    }\n",
       "</style>\n",
       "<table border=\"1\" class=\"dataframe\">\n",
       "  <thead>\n",
       "    <tr style=\"text-align: right;\">\n",
       "      <th></th>\n",
       "      <th>raceId</th>\n",
       "      <th>grid</th>\n",
       "      <th>positionOrder</th>\n",
       "      <th>points</th>\n",
       "      <th>time</th>\n",
       "      <th>milliseconds</th>\n",
       "      <th>fastest_lap_rank</th>\n",
       "      <th>fastestLapTime</th>\n",
       "      <th>fastestLapSpeed</th>\n",
       "      <th>year</th>\n",
       "      <th>gp_name</th>\n",
       "      <th>round</th>\n",
       "      <th>driver</th>\n",
       "      <th>driver_nationality</th>\n",
       "      <th>constructor_name</th>\n",
       "      <th>constructor_nationality</th>\n",
       "    </tr>\n",
       "  </thead>\n",
       "  <tbody>\n",
       "    <tr>\n",
       "      <th>0</th>\n",
       "      <td>18</td>\n",
       "      <td>1</td>\n",
       "      <td>1</td>\n",
       "      <td>10.0</td>\n",
       "      <td>1:34:50.616</td>\n",
       "      <td>5690616</td>\n",
       "      <td>2</td>\n",
       "      <td>1:27.452</td>\n",
       "      <td>218.300</td>\n",
       "      <td>2008</td>\n",
       "      <td>Australian Grand Prix</td>\n",
       "      <td>1</td>\n",
       "      <td>hamilton</td>\n",
       "      <td>British</td>\n",
       "      <td>McLaren</td>\n",
       "      <td>British</td>\n",
       "    </tr>\n",
       "    <tr>\n",
       "      <th>1</th>\n",
       "      <td>18</td>\n",
       "      <td>5</td>\n",
       "      <td>2</td>\n",
       "      <td>8.0</td>\n",
       "      <td>+5.478</td>\n",
       "      <td>5696094</td>\n",
       "      <td>3</td>\n",
       "      <td>1:27.739</td>\n",
       "      <td>217.586</td>\n",
       "      <td>2008</td>\n",
       "      <td>Australian Grand Prix</td>\n",
       "      <td>1</td>\n",
       "      <td>heidfeld</td>\n",
       "      <td>German</td>\n",
       "      <td>BMW Sauber</td>\n",
       "      <td>German</td>\n",
       "    </tr>\n",
       "    <tr>\n",
       "      <th>2</th>\n",
       "      <td>18</td>\n",
       "      <td>7</td>\n",
       "      <td>3</td>\n",
       "      <td>6.0</td>\n",
       "      <td>+8.163</td>\n",
       "      <td>5698779</td>\n",
       "      <td>5</td>\n",
       "      <td>1:28.090</td>\n",
       "      <td>216.719</td>\n",
       "      <td>2008</td>\n",
       "      <td>Australian Grand Prix</td>\n",
       "      <td>1</td>\n",
       "      <td>rosberg</td>\n",
       "      <td>German</td>\n",
       "      <td>Williams</td>\n",
       "      <td>British</td>\n",
       "    </tr>\n",
       "    <tr>\n",
       "      <th>3</th>\n",
       "      <td>18</td>\n",
       "      <td>11</td>\n",
       "      <td>4</td>\n",
       "      <td>5.0</td>\n",
       "      <td>+17.181</td>\n",
       "      <td>5707797</td>\n",
       "      <td>7</td>\n",
       "      <td>1:28.603</td>\n",
       "      <td>215.464</td>\n",
       "      <td>2008</td>\n",
       "      <td>Australian Grand Prix</td>\n",
       "      <td>1</td>\n",
       "      <td>alonso</td>\n",
       "      <td>Spanish</td>\n",
       "      <td>Renault</td>\n",
       "      <td>French</td>\n",
       "    </tr>\n",
       "    <tr>\n",
       "      <th>4</th>\n",
       "      <td>18</td>\n",
       "      <td>3</td>\n",
       "      <td>5</td>\n",
       "      <td>4.0</td>\n",
       "      <td>+18.014</td>\n",
       "      <td>5708630</td>\n",
       "      <td>1</td>\n",
       "      <td>1:27.418</td>\n",
       "      <td>218.385</td>\n",
       "      <td>2008</td>\n",
       "      <td>Australian Grand Prix</td>\n",
       "      <td>1</td>\n",
       "      <td>kovalainen</td>\n",
       "      <td>Finnish</td>\n",
       "      <td>McLaren</td>\n",
       "      <td>British</td>\n",
       "    </tr>\n",
       "  </tbody>\n",
       "</table>\n",
       "</div>"
      ],
      "text/plain": [
       "   raceId  grid  positionOrder  points         time milliseconds  \\\n",
       "0      18     1              1    10.0  1:34:50.616      5690616   \n",
       "1      18     5              2     8.0       +5.478      5696094   \n",
       "2      18     7              3     6.0       +8.163      5698779   \n",
       "3      18    11              4     5.0      +17.181      5707797   \n",
       "4      18     3              5     4.0      +18.014      5708630   \n",
       "\n",
       "  fastest_lap_rank fastestLapTime fastestLapSpeed  year  \\\n",
       "0                2       1:27.452         218.300  2008   \n",
       "1                3       1:27.739         217.586  2008   \n",
       "2                5       1:28.090         216.719  2008   \n",
       "3                7       1:28.603         215.464  2008   \n",
       "4                1       1:27.418         218.385  2008   \n",
       "\n",
       "                 gp_name  round      driver driver_nationality  \\\n",
       "0  Australian Grand Prix      1    hamilton            British   \n",
       "1  Australian Grand Prix      1    heidfeld             German   \n",
       "2  Australian Grand Prix      1     rosberg             German   \n",
       "3  Australian Grand Prix      1      alonso            Spanish   \n",
       "4  Australian Grand Prix      1  kovalainen            Finnish   \n",
       "\n",
       "  constructor_name constructor_nationality  \n",
       "0          McLaren                 British  \n",
       "1       BMW Sauber                  German  \n",
       "2         Williams                 British  \n",
       "3          Renault                  French  \n",
       "4          McLaren                 British  "
      ]
     },
     "execution_count": 7,
     "metadata": {},
     "output_type": "execute_result"
    }
   ],
   "source": [
    "#rename the columns\n",
    "df.rename(columns = {'rank':'fastest_lap_rank','name_x':'gp_name','nationality_x':'driver_nationality',\n",
    "                    'name_y':'constructor_name','nationality_y':'constructor_nationality','driverRef':'driver'},inplace = True)\n",
    "df.head()"
   ]
  },
  {
   "cell_type": "code",
   "execution_count": 8,
   "id": "0e3e4491",
   "metadata": {},
   "outputs": [
    {
     "data": {
      "text/html": [
       "<div>\n",
       "<style scoped>\n",
       "    .dataframe tbody tr th:only-of-type {\n",
       "        vertical-align: middle;\n",
       "    }\n",
       "\n",
       "    .dataframe tbody tr th {\n",
       "        vertical-align: top;\n",
       "    }\n",
       "\n",
       "    .dataframe thead th {\n",
       "        text-align: right;\n",
       "    }\n",
       "</style>\n",
       "<table border=\"1\" class=\"dataframe\">\n",
       "  <thead>\n",
       "    <tr style=\"text-align: right;\">\n",
       "      <th></th>\n",
       "      <th>year</th>\n",
       "      <th>gp_name</th>\n",
       "      <th>round</th>\n",
       "      <th>driver</th>\n",
       "      <th>constructor_name</th>\n",
       "      <th>grid</th>\n",
       "      <th>raceId</th>\n",
       "      <th>positionOrder</th>\n",
       "      <th>points</th>\n",
       "      <th>time</th>\n",
       "      <th>milliseconds</th>\n",
       "      <th>fastest_lap_rank</th>\n",
       "      <th>fastestLapTime</th>\n",
       "      <th>fastestLapSpeed</th>\n",
       "      <th>driver_nationality</th>\n",
       "      <th>constructor_nationality</th>\n",
       "    </tr>\n",
       "  </thead>\n",
       "  <tbody>\n",
       "    <tr>\n",
       "      <th>0</th>\n",
       "      <td>2008</td>\n",
       "      <td>Australian Grand Prix</td>\n",
       "      <td>1</td>\n",
       "      <td>hamilton</td>\n",
       "      <td>McLaren</td>\n",
       "      <td>1</td>\n",
       "      <td>18</td>\n",
       "      <td>1</td>\n",
       "      <td>10.0</td>\n",
       "      <td>1:34:50.616</td>\n",
       "      <td>5690616</td>\n",
       "      <td>2</td>\n",
       "      <td>1:27.452</td>\n",
       "      <td>218.300</td>\n",
       "      <td>British</td>\n",
       "      <td>British</td>\n",
       "    </tr>\n",
       "    <tr>\n",
       "      <th>1</th>\n",
       "      <td>2008</td>\n",
       "      <td>Australian Grand Prix</td>\n",
       "      <td>1</td>\n",
       "      <td>heidfeld</td>\n",
       "      <td>BMW Sauber</td>\n",
       "      <td>5</td>\n",
       "      <td>18</td>\n",
       "      <td>2</td>\n",
       "      <td>8.0</td>\n",
       "      <td>+5.478</td>\n",
       "      <td>5696094</td>\n",
       "      <td>3</td>\n",
       "      <td>1:27.739</td>\n",
       "      <td>217.586</td>\n",
       "      <td>German</td>\n",
       "      <td>German</td>\n",
       "    </tr>\n",
       "    <tr>\n",
       "      <th>2</th>\n",
       "      <td>2008</td>\n",
       "      <td>Australian Grand Prix</td>\n",
       "      <td>1</td>\n",
       "      <td>rosberg</td>\n",
       "      <td>Williams</td>\n",
       "      <td>7</td>\n",
       "      <td>18</td>\n",
       "      <td>3</td>\n",
       "      <td>6.0</td>\n",
       "      <td>+8.163</td>\n",
       "      <td>5698779</td>\n",
       "      <td>5</td>\n",
       "      <td>1:28.090</td>\n",
       "      <td>216.719</td>\n",
       "      <td>German</td>\n",
       "      <td>British</td>\n",
       "    </tr>\n",
       "    <tr>\n",
       "      <th>3</th>\n",
       "      <td>2008</td>\n",
       "      <td>Australian Grand Prix</td>\n",
       "      <td>1</td>\n",
       "      <td>alonso</td>\n",
       "      <td>Renault</td>\n",
       "      <td>11</td>\n",
       "      <td>18</td>\n",
       "      <td>4</td>\n",
       "      <td>5.0</td>\n",
       "      <td>+17.181</td>\n",
       "      <td>5707797</td>\n",
       "      <td>7</td>\n",
       "      <td>1:28.603</td>\n",
       "      <td>215.464</td>\n",
       "      <td>Spanish</td>\n",
       "      <td>French</td>\n",
       "    </tr>\n",
       "    <tr>\n",
       "      <th>4</th>\n",
       "      <td>2008</td>\n",
       "      <td>Australian Grand Prix</td>\n",
       "      <td>1</td>\n",
       "      <td>kovalainen</td>\n",
       "      <td>McLaren</td>\n",
       "      <td>3</td>\n",
       "      <td>18</td>\n",
       "      <td>5</td>\n",
       "      <td>4.0</td>\n",
       "      <td>+18.014</td>\n",
       "      <td>5708630</td>\n",
       "      <td>1</td>\n",
       "      <td>1:27.418</td>\n",
       "      <td>218.385</td>\n",
       "      <td>Finnish</td>\n",
       "      <td>British</td>\n",
       "    </tr>\n",
       "  </tbody>\n",
       "</table>\n",
       "</div>"
      ],
      "text/plain": [
       "   year                gp_name  round      driver constructor_name  grid  \\\n",
       "0  2008  Australian Grand Prix      1    hamilton          McLaren     1   \n",
       "1  2008  Australian Grand Prix      1    heidfeld       BMW Sauber     5   \n",
       "2  2008  Australian Grand Prix      1     rosberg         Williams     7   \n",
       "3  2008  Australian Grand Prix      1      alonso          Renault    11   \n",
       "4  2008  Australian Grand Prix      1  kovalainen          McLaren     3   \n",
       "\n",
       "   raceId  positionOrder  points         time milliseconds fastest_lap_rank  \\\n",
       "0      18              1    10.0  1:34:50.616      5690616                2   \n",
       "1      18              2     8.0       +5.478      5696094                3   \n",
       "2      18              3     6.0       +8.163      5698779                5   \n",
       "3      18              4     5.0      +17.181      5707797                7   \n",
       "4      18              5     4.0      +18.014      5708630                1   \n",
       "\n",
       "  fastestLapTime fastestLapSpeed driver_nationality constructor_nationality  \n",
       "0       1:27.452         218.300            British                 British  \n",
       "1       1:27.739         217.586             German                  German  \n",
       "2       1:28.090         216.719             German                 British  \n",
       "3       1:28.603         215.464            Spanish                  French  \n",
       "4       1:27.418         218.385            Finnish                 British  "
      ]
     },
     "execution_count": 8,
     "metadata": {},
     "output_type": "execute_result"
    }
   ],
   "source": [
    "df = df[['year','gp_name','round','driver','constructor_name','grid','raceId','positionOrder','points','time',\n",
    "         'milliseconds','fastest_lap_rank','fastestLapTime','fastestLapSpeed',\n",
    "        'driver_nationality','constructor_nationality']]\n",
    "df.head()"
   ]
  },
  {
   "cell_type": "code",
   "execution_count": 9,
   "id": "6e5ee1ce",
   "metadata": {},
   "outputs": [
    {
     "name": "stdout",
     "output_type": "stream",
     "text": [
      "<class 'pandas.core.frame.DataFrame'>\n",
      "Int64Index: 26080 entries, 0 to 26079\n",
      "Data columns (total 16 columns):\n",
      " #   Column                   Non-Null Count  Dtype  \n",
      "---  ------                   --------------  -----  \n",
      " 0   year                     26080 non-null  int64  \n",
      " 1   gp_name                  26080 non-null  object \n",
      " 2   round                    26080 non-null  int64  \n",
      " 3   driver                   26080 non-null  object \n",
      " 4   constructor_name         26080 non-null  object \n",
      " 5   grid                     26080 non-null  int64  \n",
      " 6   raceId                   26080 non-null  int64  \n",
      " 7   positionOrder            26080 non-null  int64  \n",
      " 8   points                   26080 non-null  float64\n",
      " 9   time                     26080 non-null  object \n",
      " 10  milliseconds             26080 non-null  object \n",
      " 11  fastest_lap_rank         26080 non-null  object \n",
      " 12  fastestLapTime           26080 non-null  object \n",
      " 13  fastestLapSpeed          26080 non-null  object \n",
      " 14  driver_nationality       26080 non-null  object \n",
      " 15  constructor_nationality  26080 non-null  object \n",
      "dtypes: float64(1), int64(5), object(10)\n",
      "memory usage: 3.4+ MB\n"
     ]
    }
   ],
   "source": [
    "#checking the data types\n",
    "df.info()"
   ]
  },
  {
   "cell_type": "code",
   "execution_count": 10,
   "id": "9223fd7f",
   "metadata": {},
   "outputs": [
    {
     "data": {
      "text/html": [
       "<div>\n",
       "<style scoped>\n",
       "    .dataframe tbody tr th:only-of-type {\n",
       "        vertical-align: middle;\n",
       "    }\n",
       "\n",
       "    .dataframe tbody tr th {\n",
       "        vertical-align: top;\n",
       "    }\n",
       "\n",
       "    .dataframe thead th {\n",
       "        text-align: right;\n",
       "    }\n",
       "</style>\n",
       "<table border=\"1\" class=\"dataframe\">\n",
       "  <thead>\n",
       "    <tr style=\"text-align: right;\">\n",
       "      <th></th>\n",
       "      <th>year</th>\n",
       "      <th>round</th>\n",
       "      <th>grid</th>\n",
       "      <th>raceId</th>\n",
       "      <th>positionOrder</th>\n",
       "      <th>points</th>\n",
       "    </tr>\n",
       "  </thead>\n",
       "  <tbody>\n",
       "    <tr>\n",
       "      <th>count</th>\n",
       "      <td>26080.000000</td>\n",
       "      <td>26080.000000</td>\n",
       "      <td>26080.000000</td>\n",
       "      <td>26080.000000</td>\n",
       "      <td>26080.000000</td>\n",
       "      <td>26080.000000</td>\n",
       "    </tr>\n",
       "    <tr>\n",
       "      <th>mean</th>\n",
       "      <td>1990.553144</td>\n",
       "      <td>8.368635</td>\n",
       "      <td>11.167561</td>\n",
       "      <td>536.695667</td>\n",
       "      <td>12.854141</td>\n",
       "      <td>1.906635</td>\n",
       "    </tr>\n",
       "    <tr>\n",
       "      <th>std</th>\n",
       "      <td>19.508665</td>\n",
       "      <td>4.949718</td>\n",
       "      <td>7.232797</td>\n",
       "      <td>303.034639</td>\n",
       "      <td>7.700068</td>\n",
       "      <td>4.219715</td>\n",
       "    </tr>\n",
       "    <tr>\n",
       "      <th>min</th>\n",
       "      <td>1950.000000</td>\n",
       "      <td>1.000000</td>\n",
       "      <td>0.000000</td>\n",
       "      <td>1.000000</td>\n",
       "      <td>1.000000</td>\n",
       "      <td>0.000000</td>\n",
       "    </tr>\n",
       "    <tr>\n",
       "      <th>25%</th>\n",
       "      <td>1976.000000</td>\n",
       "      <td>4.000000</td>\n",
       "      <td>5.000000</td>\n",
       "      <td>294.750000</td>\n",
       "      <td>6.000000</td>\n",
       "      <td>0.000000</td>\n",
       "    </tr>\n",
       "    <tr>\n",
       "      <th>50%</th>\n",
       "      <td>1991.000000</td>\n",
       "      <td>8.000000</td>\n",
       "      <td>11.000000</td>\n",
       "      <td>519.000000</td>\n",
       "      <td>12.000000</td>\n",
       "      <td>0.000000</td>\n",
       "    </tr>\n",
       "    <tr>\n",
       "      <th>75%</th>\n",
       "      <td>2007.000000</td>\n",
       "      <td>12.000000</td>\n",
       "      <td>17.000000</td>\n",
       "      <td>791.000000</td>\n",
       "      <td>18.000000</td>\n",
       "      <td>2.000000</td>\n",
       "    </tr>\n",
       "    <tr>\n",
       "      <th>max</th>\n",
       "      <td>2023.000000</td>\n",
       "      <td>22.000000</td>\n",
       "      <td>34.000000</td>\n",
       "      <td>1110.000000</td>\n",
       "      <td>39.000000</td>\n",
       "      <td>50.000000</td>\n",
       "    </tr>\n",
       "  </tbody>\n",
       "</table>\n",
       "</div>"
      ],
      "text/plain": [
       "               year         round          grid        raceId  positionOrder  \\\n",
       "count  26080.000000  26080.000000  26080.000000  26080.000000   26080.000000   \n",
       "mean    1990.553144      8.368635     11.167561    536.695667      12.854141   \n",
       "std       19.508665      4.949718      7.232797    303.034639       7.700068   \n",
       "min     1950.000000      1.000000      0.000000      1.000000       1.000000   \n",
       "25%     1976.000000      4.000000      5.000000    294.750000       6.000000   \n",
       "50%     1991.000000      8.000000     11.000000    519.000000      12.000000   \n",
       "75%     2007.000000     12.000000     17.000000    791.000000      18.000000   \n",
       "max     2023.000000     22.000000     34.000000   1110.000000      39.000000   \n",
       "\n",
       "             points  \n",
       "count  26080.000000  \n",
       "mean       1.906635  \n",
       "std        4.219715  \n",
       "min        0.000000  \n",
       "25%        0.000000  \n",
       "50%        0.000000  \n",
       "75%        2.000000  \n",
       "max       50.000000  "
      ]
     },
     "execution_count": 10,
     "metadata": {},
     "output_type": "execute_result"
    }
   ],
   "source": [
    "df.describe()"
   ]
  },
  {
   "cell_type": "code",
   "execution_count": 11,
   "id": "a84df259",
   "metadata": {},
   "outputs": [
    {
     "name": "stdout",
     "output_type": "stream",
     "text": [
      "year                       0\n",
      "gp_name                    0\n",
      "round                      0\n",
      "driver                     0\n",
      "constructor_name           0\n",
      "grid                       0\n",
      "raceId                     0\n",
      "positionOrder              0\n",
      "points                     0\n",
      "time                       0\n",
      "milliseconds               0\n",
      "fastest_lap_rank           0\n",
      "fastestLapTime             0\n",
      "fastestLapSpeed            0\n",
      "driver_nationality         0\n",
      "constructor_nationality    0\n",
      "dtype: int64\n"
     ]
    }
   ],
   "source": [
    "#check for missing values\n",
    "missing_values = df.isnull().sum()\n",
    "print(missing_values)"
   ]
  },
  {
   "cell_type": "code",
   "execution_count": 12,
   "id": "ae76b858",
   "metadata": {},
   "outputs": [
    {
     "name": "stdout",
     "output_type": "stream",
     "text": [
      "Empty DataFrame\n",
      "Columns: [year, gp_name, round, driver, constructor_name, grid, raceId, positionOrder, points, time, milliseconds, fastest_lap_rank, fastestLapTime, fastestLapSpeed, driver_nationality, constructor_nationality]\n",
      "Index: []\n"
     ]
    }
   ],
   "source": [
    "#check for duplicates\n",
    "duplicates = df[df.duplicated()]\n",
    "print(duplicates)"
   ]
  },
  {
   "cell_type": "code",
   "execution_count": 13,
   "id": "fc13b588",
   "metadata": {},
   "outputs": [
    {
     "data": {
      "text/plain": [
       "1989    620\n",
       "1990    542\n",
       "1991    539\n",
       "1988    495\n",
       "2012    480\n",
       "       ... \n",
       "1951    179\n",
       "1969    177\n",
       "1957    171\n",
       "1966    166\n",
       "1950    160\n",
       "Name: year, Length: 74, dtype: int64"
      ]
     },
     "execution_count": 13,
     "metadata": {},
     "output_type": "execute_result"
    }
   ],
   "source": [
    "df.reset_index(drop=True, inplace = True)\n",
    "df['year'].value_counts()"
   ]
  },
  {
   "cell_type": "markdown",
   "id": "242bfde2",
   "metadata": {},
   "source": [
    "# 4.  Data Visualization\n",
    "\n",
    "Now our data is ready for some EDA. Let's start with some visualizations. We will first check how the number of races per year has been changing since the year 1950. We will then check the composition of driver nationalities using a pie chart, then check for the top 10 most successful drivers and teams. We will also explore the correlation of grid position, final race position and the points scored in that race"
   ]
  },
  {
   "cell_type": "code",
   "execution_count": 14,
   "id": "11b55ebd",
   "metadata": {},
   "outputs": [
    {
     "data": {
      "image/png": "[encoded data removed]",
      "text/plain": [
       "<Figure size 720x432 with 1 Axes>"
      ]
     },
     "metadata": {
      "needs_background": "light"
     },
     "output_type": "display_data"
    }
   ],
   "source": [
    "#Check how the number of races has changed over the years\n",
    "\n",
    "yearly_race_counts=races.groupby('year')['raceId'].count().reset_index()\n",
    "# Plotting the line plot using Seaborn\n",
    "plt.figure(figsize=(10, 6))\n",
    "sns.lineplot(data=yearly_race_counts, x='year', y='raceId', marker='o')\n",
    "plt.xlabel('Year')\n",
    "plt.ylabel('Number of Races')\n",
    "plt.title('Number of Races per Year')\n",
    "plt.grid(True)\n",
    "plt.show()\n"
   ]
  },
  {
   "cell_type": "markdown",
   "id": "481afa10",
   "metadata": {},
   "source": [
    "As seen above the number of races has been marked with sharp changes. It has never been on a constant trajectory. It is marked with rise and falls. The sharpest decline in the number of races is seen in the year 2020 which is likely due to the COVID-19 Global pandemic."
   ]
  },
  {
   "cell_type": "code",
   "execution_count": 15,
   "id": "fcddd104",
   "metadata": {},
   "outputs": [
    {
     "data": {
      "image/png": "[encoded data removed]",
      "text/plain": [
       "<Figure size 576x576 with 1 Axes>"
      ]
     },
     "metadata": {},
     "output_type": "display_data"
    }
   ],
   "source": [
    "#check the driver nationality \n",
    "\n",
    "nationalities = df['driver_nationality'].value_counts()\n",
    "\n",
    "# Plotting\n",
    "plt.figure(figsize=(8, 8))\n",
    "sns.set_style(\"whitegrid\")  # Set the style\n",
    "sns.color_palette(\"pastel\")  # Set color palette\n",
    "plt.pie(nationalities, labels=nationalities.index, autopct='%1.1f%%', startangle=140)\n",
    "plt.title('Distribution of Nationalities of Drivers')\n",
    "plt.axis('equal')\n",
    "\n",
    "# Showing the plot\n",
    "plt.show()"
   ]
  },
  {
   "cell_type": "markdown",
   "id": "2e2d4e83",
   "metadata": {},
   "source": [
    "The pie chart displays the distribution of the different nationalities. With a quick look one can notice that British drivers form a large portion of the driver nationalities than any other nation. It can also be noted that most of the drivers are of European origin with a very small porrtion coming from elsewhere.\n",
    "\n",
    "Next we will look at the drivers and try to know who are the most successful drivers in the history of formula 1."
   ]
  },
  {
   "cell_type": "code",
   "execution_count": 16,
   "id": "a697213c",
   "metadata": {},
   "outputs": [
    {
     "data": {
      "text/plain": [
       "Text(0.5, 0, 'Number of GP wins')"
      ]
     },
     "execution_count": 16,
     "metadata": {},
     "output_type": "execute_result"
    },
    {
     "data": {
      "image/png": "[encoded data removed]",
      "text/plain": [
       "<Figure size 432x288 with 1 Axes>"
      ]
     },
     "metadata": {},
     "output_type": "display_data"
    }
   ],
   "source": [
    "#check to see the top 10 drivers by the number of wins\n",
    "driver_winner = df.loc[df['positionOrder']==1].groupby('driver')['positionOrder'].count().sort_values(ascending=False).to_frame().reset_index()\n",
    "\n",
    "top10Drivers =driver_winner.head(10)\n",
    "#barplot\n",
    "\n",
    "sns.barplot(data=top10Drivers,y='driver',x='positionOrder',color='blue',alpha=0.8,linewidth=.8,edgecolor='black')\n",
    "plt.title('Top 10 Most Race Winners in F1')\n",
    "plt.ylabel('Driver Name')\n",
    "plt.xlabel('Number of GP wins')"
   ]
  },
  {
   "cell_type": "markdown",
   "id": "ff559010",
   "metadata": {},
   "source": [
    "Lewis Hamilton is the most successfull driver in terms of the number of wins, followed closely by the legendary Michael Schumacher. The others follow with far less wins notably Vettel with just more than half of Hamilton's wins. Next we shall check on the teams. As with the bar chart below, it is visible that the team with most wins is <i>'the prancing horse'</i> Ferrari followed by the Mclaren, then the recently most dominant team Mercedes"
   ]
  },
  {
   "cell_type": "code",
   "execution_count": 17,
   "id": "b4b26143",
   "metadata": {},
   "outputs": [
    {
     "data": {
      "text/plain": [
       "Text(0.5, 0, 'Number of GP wins')"
      ]
     },
     "execution_count": 17,
     "metadata": {},
     "output_type": "execute_result"
    },
    {
     "data": {
      "image/png": "[encoded data removed]",
      "text/plain": [
       "<Figure size 432x288 with 1 Axes>"
      ]
     },
     "metadata": {},
     "output_type": "display_data"
    }
   ],
   "source": [
    "#now I would like to check the top 10 teams in the history of f1\n",
    "constructor_winner =df.loc[df['positionOrder']== 1].groupby('constructor_name')['positionOrder'].count().sort_values(ascending=False).to_frame().reset_index()\n",
    "\n",
    "# top 10 GP constructors winners\n",
    "top10constructors = constructor_winner.head(10)\n",
    "\n",
    "sns.barplot (data = top10constructors, y = 'constructor_name', x = 'positionOrder',\n",
    "         color = 'cyan', alpha = 0.8, linewidth=.8, edgecolor=\"black\")\n",
    "plt. title( 'Top 10 constructors')\n",
    "plt.ylabel( 'Constructors Name ')\n",
    "plt.xlabel('Number of GP wins')"
   ]
  },
  {
   "cell_type": "markdown",
   "id": "c4211a48",
   "metadata": {},
   "source": [
    "Now that we know who are the most successful team and driver, a question arises <i>What does it take to win in Formula 1?</i>Is it having the most talented driver? Is it having the fastest car?. We will try and answer the quaestion below.\n",
    "\n",
    "First I opted to check the correlation of three columns: 'grid', 'positionOrder', 'points'"
   ]
  },
  {
   "cell_type": "code",
   "execution_count": 18,
   "id": "3216cc2a",
   "metadata": {},
   "outputs": [
    {
     "data": {
      "image/png": "[encoded data removed]",
      "text/plain": [
       "<Figure size 720x576 with 2 Axes>"
      ]
     },
     "metadata": {},
     "output_type": "display_data"
    }
   ],
   "source": [
    "\n",
    "selected_columns = ['grid', 'positionOrder', 'points']\n",
    "\n",
    "subset_df = df[selected_columns]\n",
    "\n",
    "# Calculate the correlation matrix for the selected columns\n",
    "correlation_matrix = subset_df.corr()\n",
    "\n",
    "# Plotting the heatmap\n",
    "plt.figure(figsize=(10, 8))\n",
    "sns.heatmap(correlation_matrix, annot=True, cmap='coolwarm', fmt=\".2f\", linewidths=.5)\n",
    "plt.title('Correlation Matrix Heatmap for Grid position, Finishing position and Points')\n",
    "plt.show()"
   ]
  },
  {
   "cell_type": "markdown",
   "id": "52fcb097",
   "metadata": {},
   "source": [
    "Grid position and points are negatively correlated meaning the more you icrease the grid position like start from postion 10, the less likely for a driver to score points. A detailed anlaysis will be in the report"
   ]
  },
  {
   "cell_type": "markdown",
   "id": "ae66d665",
   "metadata": {},
   "source": [
    "# 5. Lewis Hamilton\n",
    "\n",
    "Now that we have done some general exporing of the data let's now take a case study of the most successful driver of all time <b>Sir Lewis Hamilton</b>. We will look at what's behind his wins. We will look at the number of races he has perticipated in, the percentage of wins, the number of pole positions held(qualifying) and try to look at the effect of his starting grid slot on his wins."
   ]
  },
  {
   "cell_type": "code",
   "execution_count": 19,
   "id": "0607f60d",
   "metadata": {},
   "outputs": [
    {
     "name": "stdout",
     "output_type": "stream",
     "text": [
      "The number of race starts is 322\n"
     ]
    }
   ],
   "source": [
    "#now lets check on hamiltons wins\n",
    "\n",
    "#first we check the number of races\n",
    "lewis_df = df[df['driver'] == 'hamilton']\n",
    "races = lewis_df.shape[0]\n",
    "print(f'The number of race starts is {races}')\n"
   ]
  },
  {
   "cell_type": "code",
   "execution_count": 20,
   "id": "c794cca6",
   "metadata": {},
   "outputs": [
    {
     "name": "stdout",
     "output_type": "stream",
     "text": [
      "The number of race wins is 103\n"
     ]
    }
   ],
   "source": [
    "# of these races how many are race wins\n",
    "lewis_wins = lewis_df[lewis_df['positionOrder'] == 1]\n",
    "wins = lewis_wins.shape[0]\n",
    "print(f'The number of race wins is {wins}')"
   ]
  },
  {
   "cell_type": "code",
   "execution_count": 21,
   "id": "04f08dd4",
   "metadata": {},
   "outputs": [
    {
     "name": "stdout",
     "output_type": "stream",
     "text": [
      "The number of pole positions is 104\n"
     ]
    }
   ],
   "source": [
    "#how many pole positions does he have in total\n",
    "lewis_poles = lewis_df[lewis_df['grid'] == 1]\n",
    "poles = lewis_poles.shape[0]\n",
    "print(f'The number of pole positions is {poles}')"
   ]
  },
  {
   "cell_type": "code",
   "execution_count": 22,
   "id": "dcb4a941",
   "metadata": {},
   "outputs": [
    {
     "name": "stdout",
     "output_type": "stream",
     "text": [
      "The percentage races won from pole is 59.22%\n"
     ]
    }
   ],
   "source": [
    "#now lets check the percentage of wins from pole positions\n",
    "win_pole = lewis_wins[lewis_wins['grid'] == 1]\n",
    "\n",
    "print(f'The percentage races won from pole is {((win_pole.shape[0] / wins)*100):.2f}%')"
   ]
  },
  {
   "cell_type": "code",
   "execution_count": 23,
   "id": "61874953",
   "metadata": {},
   "outputs": [
    {
     "name": "stdout",
     "output_type": "stream",
     "text": [
      "The percentage races won from pole is 92.23%\n"
     ]
    }
   ],
   "source": [
    "#now lets check the percentage of wins from top three grid slots\n",
    "top_three = lewis_wins[lewis_wins['grid'].isin([1,2,3]) ]\n",
    "\n",
    "print(f'The percentage races won from pole is {((top_three.shape[0] / wins)*100):.2f}%')"
   ]
  },
  {
   "cell_type": "code",
   "execution_count": 24,
   "id": "331b0c93",
   "metadata": {},
   "outputs": [
    {
     "name": "stdout",
     "output_type": "stream",
     "text": [
      "The percentage races won from pole is 7.77%\n"
     ]
    }
   ],
   "source": [
    "#now lets check the percentage of wins from outside the top three grid slots\n",
    "outside_top_three = lewis_wins[~lewis_wins['grid'].isin([1,2,3]) ]\n",
    "\n",
    "print(f'The percentage races won from pole is {((outside_top_three.shape[0] / wins) * 100):.2f}%')"
   ]
  },
  {
   "cell_type": "code",
   "execution_count": 33,
   "id": "17fa70fb",
   "metadata": {},
   "outputs": [
    {
     "data": {
      "image/png": "[encoded data removed]",
      "text/plain": [
       "<Figure size 720x432 with 1 Axes>"
      ]
     },
     "metadata": {},
     "output_type": "display_data"
    }
   ],
   "source": [
    "# Now we can visualize the resulst\n",
    "\n",
    "# Count the number of occurrences for each category\n",
    "counts = [outside_top_three.shape[0], top_three.shape[0], win_pole.shape[0]]\n",
    "\n",
    "# Categories\n",
    "categories = ['Outside Top Three', 'Top Three', 'Wins from Pole']\n",
    "\n",
    "# Plotting the bar chart\n",
    "plt.figure(figsize=(10, 6))\n",
    "plt.bar(categories, counts, color=['skyblue', 'lightgreen', 'salmon'])\n",
    "plt.title('Lewis Hamilton - Wins From Grid')\n",
    "plt.xlabel('Race Starts')\n",
    "plt.ylabel('Count')\n",
    "plt.show()\n"
   ]
  },
  {
   "cell_type": "markdown",
   "id": "c042239a",
   "metadata": {},
   "source": [
    "From the chart above, it can be noted that a great qualifying is part of his great record. With 104 pole positions, he is truly a master at qualifying. It is also noted that when he starts a race in the top three grid slots, he is more likely to win that race than when he is starting outside the top three.\n",
    "\n",
    "But what's behind this great qualifying pace? Is it because of the car he is driving? Let's explore"
   ]
  },
  {
   "cell_type": "markdown",
   "id": "b7773913",
   "metadata": {},
   "source": [
    "It hs to be noted that he has only raced for two different teams Mclaren and Mercedes. We will need to isolate the time he was with these two teams to determine the competitiveness of the team when he was there"
   ]
  },
  {
   "cell_type": "code",
   "execution_count": 26,
   "id": "98b27e1b",
   "metadata": {},
   "outputs": [
    {
     "data": {
      "text/html": [
       "<div>\n",
       "<style scoped>\n",
       "    .dataframe tbody tr th:only-of-type {\n",
       "        vertical-align: middle;\n",
       "    }\n",
       "\n",
       "    .dataframe tbody tr th {\n",
       "        vertical-align: top;\n",
       "    }\n",
       "\n",
       "    .dataframe thead th {\n",
       "        text-align: right;\n",
       "    }\n",
       "</style>\n",
       "<table border=\"1\" class=\"dataframe\">\n",
       "  <thead>\n",
       "    <tr style=\"text-align: right;\">\n",
       "      <th></th>\n",
       "      <th>year</th>\n",
       "      <th>gp_name</th>\n",
       "      <th>round</th>\n",
       "      <th>driver</th>\n",
       "      <th>constructor_name</th>\n",
       "      <th>grid</th>\n",
       "      <th>raceId</th>\n",
       "      <th>positionOrder</th>\n",
       "      <th>points</th>\n",
       "      <th>time</th>\n",
       "      <th>milliseconds</th>\n",
       "      <th>fastest_lap_rank</th>\n",
       "      <th>fastestLapTime</th>\n",
       "      <th>fastestLapSpeed</th>\n",
       "      <th>driver_nationality</th>\n",
       "      <th>constructor_nationality</th>\n",
       "    </tr>\n",
       "  </thead>\n",
       "  <tbody>\n",
       "    <tr>\n",
       "      <th>435</th>\n",
       "      <td>2007</td>\n",
       "      <td>Spanish Grand Prix</td>\n",
       "      <td>4</td>\n",
       "      <td>hamilton</td>\n",
       "      <td>McLaren</td>\n",
       "      <td>4</td>\n",
       "      <td>39</td>\n",
       "      <td>2</td>\n",
       "      <td>8.0</td>\n",
       "      <td>+6.790</td>\n",
       "      <td>5503020</td>\n",
       "      <td>2</td>\n",
       "      <td>1:22.876</td>\n",
       "      <td>202.205</td>\n",
       "      <td>British</td>\n",
       "      <td>British</td>\n",
       "    </tr>\n",
       "    <tr>\n",
       "      <th>413</th>\n",
       "      <td>2007</td>\n",
       "      <td>Bahrain Grand Prix</td>\n",
       "      <td>3</td>\n",
       "      <td>hamilton</td>\n",
       "      <td>McLaren</td>\n",
       "      <td>2</td>\n",
       "      <td>38</td>\n",
       "      <td>2</td>\n",
       "      <td>8.0</td>\n",
       "      <td>+2.360</td>\n",
       "      <td>5609875</td>\n",
       "      <td>2</td>\n",
       "      <td>1:34.270</td>\n",
       "      <td>206.674</td>\n",
       "      <td>British</td>\n",
       "      <td>British</td>\n",
       "    </tr>\n",
       "    <tr>\n",
       "      <th>457</th>\n",
       "      <td>2007</td>\n",
       "      <td>Monaco Grand Prix</td>\n",
       "      <td>5</td>\n",
       "      <td>hamilton</td>\n",
       "      <td>McLaren</td>\n",
       "      <td>2</td>\n",
       "      <td>40</td>\n",
       "      <td>2</td>\n",
       "      <td>8.0</td>\n",
       "      <td>+4.095</td>\n",
       "      <td>6033424</td>\n",
       "      <td>2</td>\n",
       "      <td>1:15.372</td>\n",
       "      <td>159.528</td>\n",
       "      <td>British</td>\n",
       "      <td>British</td>\n",
       "    </tr>\n",
       "    <tr>\n",
       "      <th>478</th>\n",
       "      <td>2007</td>\n",
       "      <td>Canadian Grand Prix</td>\n",
       "      <td>6</td>\n",
       "      <td>hamilton</td>\n",
       "      <td>McLaren</td>\n",
       "      <td>1</td>\n",
       "      <td>41</td>\n",
       "      <td>1</td>\n",
       "      <td>10.0</td>\n",
       "      <td>1:44:11.292</td>\n",
       "      <td>6251292</td>\n",
       "      <td>2</td>\n",
       "      <td>1:16.494</td>\n",
       "      <td>205.239</td>\n",
       "      <td>British</td>\n",
       "      <td>British</td>\n",
       "    </tr>\n",
       "    <tr>\n",
       "      <th>500</th>\n",
       "      <td>2007</td>\n",
       "      <td>United States Grand Prix</td>\n",
       "      <td>7</td>\n",
       "      <td>hamilton</td>\n",
       "      <td>McLaren</td>\n",
       "      <td>1</td>\n",
       "      <td>42</td>\n",
       "      <td>1</td>\n",
       "      <td>10.0</td>\n",
       "      <td>1:31:09.965</td>\n",
       "      <td>5469965</td>\n",
       "      <td>2</td>\n",
       "      <td>1:13.222</td>\n",
       "      <td>206.101</td>\n",
       "      <td>British</td>\n",
       "      <td>British</td>\n",
       "    </tr>\n",
       "  </tbody>\n",
       "</table>\n",
       "</div>"
      ],
      "text/plain": [
       "     year                   gp_name  round    driver constructor_name  grid  \\\n",
       "435  2007        Spanish Grand Prix      4  hamilton          McLaren     4   \n",
       "413  2007        Bahrain Grand Prix      3  hamilton          McLaren     2   \n",
       "457  2007         Monaco Grand Prix      5  hamilton          McLaren     2   \n",
       "478  2007       Canadian Grand Prix      6  hamilton          McLaren     1   \n",
       "500  2007  United States Grand Prix      7  hamilton          McLaren     1   \n",
       "\n",
       "     raceId  positionOrder  points         time milliseconds fastest_lap_rank  \\\n",
       "435      39              2     8.0       +6.790      5503020                2   \n",
       "413      38              2     8.0       +2.360      5609875                2   \n",
       "457      40              2     8.0       +4.095      6033424                2   \n",
       "478      41              1    10.0  1:44:11.292      6251292                2   \n",
       "500      42              1    10.0  1:31:09.965      5469965                2   \n",
       "\n",
       "    fastestLapTime fastestLapSpeed driver_nationality constructor_nationality  \n",
       "435       1:22.876         202.205            British                 British  \n",
       "413       1:34.270         206.674            British                 British  \n",
       "457       1:15.372         159.528            British                 British  \n",
       "478       1:16.494         205.239            British                 British  \n",
       "500       1:13.222         206.101            British                 British  "
      ]
     },
     "execution_count": 26,
     "metadata": {},
     "output_type": "execute_result"
    }
   ],
   "source": [
    "# check the number of constructor wins to check the car theory\n",
    "#has he always had the better car?\n",
    "sorted_lewis_df = lewis_df.sort_values(by='year', ascending=True)\n",
    "sorted_lewis_df.head()"
   ]
  },
  {
   "cell_type": "code",
   "execution_count": 27,
   "id": "53ed031f",
   "metadata": {},
   "outputs": [
    {
     "data": {
      "text/html": [
       "<div>\n",
       "<style scoped>\n",
       "    .dataframe tbody tr th:only-of-type {\n",
       "        vertical-align: middle;\n",
       "    }\n",
       "\n",
       "    .dataframe tbody tr th {\n",
       "        vertical-align: top;\n",
       "    }\n",
       "\n",
       "    .dataframe thead th {\n",
       "        text-align: right;\n",
       "    }\n",
       "</style>\n",
       "<table border=\"1\" class=\"dataframe\">\n",
       "  <thead>\n",
       "    <tr style=\"text-align: right;\">\n",
       "      <th></th>\n",
       "      <th>year</th>\n",
       "      <th>gp_name</th>\n",
       "      <th>round</th>\n",
       "      <th>driver</th>\n",
       "      <th>constructor_name</th>\n",
       "      <th>grid</th>\n",
       "      <th>raceId</th>\n",
       "      <th>positionOrder</th>\n",
       "      <th>points</th>\n",
       "      <th>time</th>\n",
       "      <th>milliseconds</th>\n",
       "      <th>fastest_lap_rank</th>\n",
       "      <th>fastestLapTime</th>\n",
       "      <th>fastestLapSpeed</th>\n",
       "      <th>driver_nationality</th>\n",
       "      <th>constructor_nationality</th>\n",
       "    </tr>\n",
       "  </thead>\n",
       "  <tbody>\n",
       "    <tr>\n",
       "      <th>25881</th>\n",
       "      <td>2023</td>\n",
       "      <td>Australian Grand Prix</td>\n",
       "      <td>3</td>\n",
       "      <td>hamilton</td>\n",
       "      <td>Mercedes</td>\n",
       "      <td>3</td>\n",
       "      <td>1100</td>\n",
       "      <td>2</td>\n",
       "      <td>18.0</td>\n",
       "      <td>+0.179</td>\n",
       "      <td>9158550</td>\n",
       "      <td>5</td>\n",
       "      <td>1:20.613</td>\n",
       "      <td>235.703</td>\n",
       "      <td>British</td>\n",
       "      <td>German</td>\n",
       "    </tr>\n",
       "    <tr>\n",
       "      <th>25864</th>\n",
       "      <td>2023</td>\n",
       "      <td>Saudi Arabian Grand Prix</td>\n",
       "      <td>2</td>\n",
       "      <td>hamilton</td>\n",
       "      <td>Mercedes</td>\n",
       "      <td>7</td>\n",
       "      <td>1099</td>\n",
       "      <td>5</td>\n",
       "      <td>10.0</td>\n",
       "      <td>+31.065</td>\n",
       "      <td>4905959</td>\n",
       "      <td>6</td>\n",
       "      <td>1:32.941</td>\n",
       "      <td>239.145</td>\n",
       "      <td>British</td>\n",
       "      <td>German</td>\n",
       "    </tr>\n",
       "    <tr>\n",
       "      <th>26043</th>\n",
       "      <td>2023</td>\n",
       "      <td>Hungarian Grand Prix</td>\n",
       "      <td>11</td>\n",
       "      <td>hamilton</td>\n",
       "      <td>Mercedes</td>\n",
       "      <td>1</td>\n",
       "      <td>1109</td>\n",
       "      <td>4</td>\n",
       "      <td>12.0</td>\n",
       "      <td>+39.134</td>\n",
       "      <td>5927768</td>\n",
       "      <td>2</td>\n",
       "      <td>1:21.601</td>\n",
       "      <td>193.277</td>\n",
       "      <td>British</td>\n",
       "      <td>German</td>\n",
       "    </tr>\n",
       "    <tr>\n",
       "      <th>25925</th>\n",
       "      <td>2023</td>\n",
       "      <td>Miami Grand Prix</td>\n",
       "      <td>5</td>\n",
       "      <td>hamilton</td>\n",
       "      <td>Mercedes</td>\n",
       "      <td>13</td>\n",
       "      <td>1102</td>\n",
       "      <td>6</td>\n",
       "      <td>8.0</td>\n",
       "      <td>+51.249</td>\n",
       "      <td>5309490</td>\n",
       "      <td>4</td>\n",
       "      <td>1:30.669</td>\n",
       "      <td>214.882</td>\n",
       "      <td>British</td>\n",
       "      <td>German</td>\n",
       "    </tr>\n",
       "    <tr>\n",
       "      <th>26063</th>\n",
       "      <td>2023</td>\n",
       "      <td>Belgian Grand Prix</td>\n",
       "      <td>12</td>\n",
       "      <td>hamilton</td>\n",
       "      <td>Mercedes</td>\n",
       "      <td>3</td>\n",
       "      <td>1110</td>\n",
       "      <td>4</td>\n",
       "      <td>13.0</td>\n",
       "      <td>+49.671</td>\n",
       "      <td>5000121</td>\n",
       "      <td>1</td>\n",
       "      <td>1:47.305</td>\n",
       "      <td>234.978</td>\n",
       "      <td>British</td>\n",
       "      <td>German</td>\n",
       "    </tr>\n",
       "  </tbody>\n",
       "</table>\n",
       "</div>"
      ],
      "text/plain": [
       "       year                   gp_name  round    driver constructor_name  grid  \\\n",
       "25881  2023     Australian Grand Prix      3  hamilton         Mercedes     3   \n",
       "25864  2023  Saudi Arabian Grand Prix      2  hamilton         Mercedes     7   \n",
       "26043  2023      Hungarian Grand Prix     11  hamilton         Mercedes     1   \n",
       "25925  2023          Miami Grand Prix      5  hamilton         Mercedes    13   \n",
       "26063  2023        Belgian Grand Prix     12  hamilton         Mercedes     3   \n",
       "\n",
       "       raceId  positionOrder  points     time milliseconds fastest_lap_rank  \\\n",
       "25881    1100              2    18.0   +0.179      9158550                5   \n",
       "25864    1099              5    10.0  +31.065      4905959                6   \n",
       "26043    1109              4    12.0  +39.134      5927768                2   \n",
       "25925    1102              6     8.0  +51.249      5309490                4   \n",
       "26063    1110              4    13.0  +49.671      5000121                1   \n",
       "\n",
       "      fastestLapTime fastestLapSpeed driver_nationality  \\\n",
       "25881       1:20.613         235.703            British   \n",
       "25864       1:32.941         239.145            British   \n",
       "26043       1:21.601         193.277            British   \n",
       "25925       1:30.669         214.882            British   \n",
       "26063       1:47.305         234.978            British   \n",
       "\n",
       "      constructor_nationality  \n",
       "25881                  German  \n",
       "25864                  German  \n",
       "26043                  German  \n",
       "25925                  German  \n",
       "26063                  German  "
      ]
     },
     "execution_count": 27,
     "metadata": {},
     "output_type": "execute_result"
    }
   ],
   "source": [
    "sorted_lewis_df.tail()"
   ]
  },
  {
   "cell_type": "code",
   "execution_count": 28,
   "id": "ad339b70",
   "metadata": {},
   "outputs": [
    {
     "name": "stdout",
     "output_type": "stream",
     "text": [
      "['McLaren' 'Mercedes']\n"
     ]
    }
   ],
   "source": [
    "#now lets look at which team won most races over this period\n",
    "#for this we will need to know which teams he has races for\n",
    "unique_teams = sorted_lewis_df['constructor_name'].unique()\n",
    "print(unique_teams)"
   ]
  },
  {
   "cell_type": "code",
   "execution_count": 29,
   "id": "d1c35384",
   "metadata": {},
   "outputs": [
    {
     "name": "stdout",
     "output_type": "stream",
     "text": [
      "2013\n"
     ]
    }
   ],
   "source": [
    "#from the above we can see that he has raced for two teams 'McLaren' and 'Mercedes'\n",
    "#we need to know the year he left maclaren for mercedes\n",
    "mercedes_first_appearance_index = sorted_lewis_df[sorted_lewis_df['constructor_name'] == 'Mercedes'].index[0]\n",
    "\n",
    "# Now you can get the full row where Mercedes first appears\n",
    "mercedes_first_appearance_row = sorted_lewis_df.loc[mercedes_first_appearance_index]['year']\n",
    "print(mercedes_first_appearance_row)"
   ]
  },
  {
   "cell_type": "code",
   "execution_count": 30,
   "id": "883d21f6",
   "metadata": {},
   "outputs": [
    {
     "data": {
      "image/png": "[encoded data removed]",
      "text/plain": [
       "<Figure size 432x288 with 1 Axes>"
      ]
     },
     "metadata": {},
     "output_type": "display_data"
    }
   ],
   "source": [
    "#lets separate the years at McLaren from those at Mercedes\n",
    "\n",
    "df_2007_to_2012 = df[(df['year'] >= 2007) & (df['year'] <= 2012)]\n",
    "df_2013_to_2023 = df[(df['year'] >= 2013) & (df['year'] <= 2023)]\n",
    "\n",
    "#now that we have split the data we need to visualize the number of constructor\n",
    "#wins by mclaren  in the respective period\n",
    "constructor_winner =df_2007_to_2012.loc[df_2007_to_2012['positionOrder']== 1].groupby('constructor_name')['positionOrder'].count().sort_values(ascending=False).to_frame().reset_index()\n",
    "\n",
    "top10constructors_2007_to_2012 = constructor_winner.head(10)\n",
    "\n",
    "colors = sns.color_palette('hsv', n_colors=len(top10constructors_2007_to_2012))\n",
    "sns.barplot(data=top10constructors_2007_to_2012, x='constructor_name', y='positionOrder',\n",
    "            palette=colors)\n",
    "plt.title('Top 10 constructors for the Year 2007 to 2012')\n",
    "plt.xlabel('Constructors Name')\n",
    "plt.ylabel('Number of GP wins')\n",
    "plt.xticks(rotation=45)\n",
    "plt.show()"
   ]
  },
  {
   "cell_type": "markdown",
   "id": "1a1f6731",
   "metadata": {},
   "source": [
    "Over the period he was with Mclaren, another team Red Bull was also challenging for wins. They roughly have the same number of wins. Though the McLaren team was competitive, his wins with the team cannot be soley attributed to the car performance."
   ]
  },
  {
   "cell_type": "code",
   "execution_count": 31,
   "id": "7f89a6a9",
   "metadata": {},
   "outputs": [
    {
     "data": {
      "image/png": "[encoded data removed]",
      "text/plain": [
       "<Figure size 432x288 with 1 Axes>"
      ]
     },
     "metadata": {},
     "output_type": "display_data"
    }
   ],
   "source": [
    "#wins by  mercedes in the respective period\n",
    "constructor_winner =df_2013_to_2023.loc[df_2013_to_2023['positionOrder']== 1].groupby('constructor_name')['positionOrder'].count().sort_values(ascending=False).to_frame().reset_index()\n",
    "\n",
    "# pick the top 10 teams for the period\n",
    "top10constructors_2013_to_2023 = constructor_winner.head(10)\n",
    "\n",
    "# plot the data\n",
    "colors = sns.color_palette('hsv', n_colors=len(top10constructors_2013_to_2023))\n",
    "\n",
    "sns.barplot(data=top10constructors_2013_to_2023, x='constructor_name', y='positionOrder',\n",
    "            palette=colors)\n",
    "plt.title('Top 10 constructors for the Year 2013 to 2023')\n",
    "plt.xlabel('Constructors Name')\n",
    "plt.ylabel('Number of GP wins')\n",
    "plt.xticks(rotation=45)\n",
    "plt.show()"
   ]
  },
  {
   "cell_type": "markdown",
   "id": "0a1db970",
   "metadata": {},
   "source": [
    "With Mercedes, the story is very different. The Mercedes cars have been very dominant. With nearly 120 wins, the team must have been making fast and reliable cars. With the nearly perfect car he must have been having it easy winning races."
   ]
  },
  {
   "cell_type": "markdown",
   "id": "7250927a",
   "metadata": {},
   "source": [
    "# Conclusion\n",
    "\n",
    "Formula one is a team sport. A team comes up with a car to challenge for championships every year. In the case of Lewis Hamilton I have determined that a fast qualifying car is very important. Qualifying high up on a Sartuday, offers you the best chance of emerging the winner on Sunday. It is not purely upto car performance as with his time in McLaren, Red Bull had nearly the same number of wins. \n",
    "\n",
    "It is my conclusion that the perfect driver-car pairing is the solution to win races in formula 1. A fast car and a talented driver is the ultimate dream."
   ]
  },
  {
   "cell_type": "code",
   "execution_count": null,
   "id": "5365b378",
   "metadata": {},
   "outputs": [],
   "source": []
  }
 ],
 "metadata": {
  "kernelspec": {
   "display_name": "Python 3 (ipykernel)",
   "language": "python",
   "name": "python3"
  },
  "language_info": {
   "codemirror_mode": {
    "name": "ipython",
    "version": 3
   },
   "file_extension": ".py",
   "mimetype": "text/x-python",
   "name": "python",
   "nbconvert_exporter": "python",
   "pygments_lexer": "ipython3",
   "version": "3.8.13"
  }
 },
 "nbformat": 4,
 "nbformat_minor": 5
}
